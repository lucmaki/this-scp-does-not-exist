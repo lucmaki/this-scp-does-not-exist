{
  "cells": [
    {
      "cell_type": "code",
      "source": [
        "# @title Set Global Values\n",
        "TRAIN_DATA_PATH = \"\" # Training set not provided.\n",
        "OPENAI_API_KEY = \"\" # Keep it hidden!\n",
        "OPENAI_MODEL_ID = \"\" # Whatever ID OpenAI gives out after fine-tuning a model.\n",
        "SCP_ARTICLE_TABLE_PATH = \"\" # An AI generated SCP .csv table.\n",
        "SCP_IMGS_PATH = \"\" # AI generated imgs folder.\n",
        "SCP_PAGES_PATH = \"\" # The path for generated SCP article htmls.\n",
        "IMGS_HOSTING_PATH = \"\" # For example if \"www.imghost.com/\" is the path, must have imgs hosted as : /1.png, /2.png at the end."
      ],
      "metadata": {
        "id": "CvStYUBUDpsN"
      },
      "execution_count": null,
      "outputs": []
    },
    {
      "cell_type": "code",
      "execution_count": null,
      "metadata": {
        "id": "0VCBCC4HyJ7q"
      },
      "outputs": [],
      "source": [
        "# @title Requirements\n",
        "\n",
        "!pip install transformers==4.21.0\n",
        "!pip install datasets\n",
        "!pip install tqdm\n",
        "!pip install openai\n",
        "!pip install diffusers\n",
        "!pip install accelerate\n",
        "!pip install Jinja2\n",
        "!pip install pandas\n",
        "!pip install seaborn"
      ]
    },
    {
      "cell_type": "markdown",
      "metadata": {
        "id": "5r812COeiT2d"
      },
      "source": [
        "# SCP text generation"
      ]
    },
    {
      "cell_type": "markdown",
      "source": [
        "## Training model"
      ],
      "metadata": {
        "id": "v_Vs9e9UC14Q"
      }
    },
    {
      "cell_type": "code",
      "execution_count": null,
      "metadata": {
        "id": "S2kbBf4rCVhZ"
      },
      "outputs": [],
      "source": [
        "# @title Prep from table data\n",
        "\n",
        "# We clean the dataset. For ex: too long/short, bad ratings, bad format, string issues...\n",
        "\n",
        "import pandas as pd\n",
        "import numpy as np\n",
        "import seaborn as sns\n",
        "import csv\n",
        "\n",
        "df = pd.read_csv(TRAIN_DATA_PATH, delimiter=',', quoting=csv.QUOTE_ALL, encoding='utf-8', index_col=0)\n",
        "\n",
        "prep_df = df[df[\"text\"].str.startswith(\"\\\"Item #: SCP-\")]\n",
        "prep_df = prep_df[prep_df[\"text\"].str.contains(\"Object Class:\")]\n",
        "prep_df = prep_df[prep_df[\"text\"].str.contains(\"Special Containment Procedures:\")]\n",
        "prep_df = prep_df[prep_df[\"text\"].str.contains(\"Description:\")]\n",
        "\n",
        "prep_df = prep_df[(prep_df[\"rating\"]>30)]\n",
        "\n",
        "\n",
        "prep_df['text'] = prep_df[\"text\"].str[1:]  # Remove quotations from text and title\n",
        "prep_df['title'] = prep_df[\"title\"].str[1:-1]\n",
        "\n",
        "prep_df['text'] = prep_df['text'].str.split(\" \\n « SCP-\").str[0] # Clean site data at end of text\n",
        "prep_df['text'] = prep_df['text'].str.split(\"\\n Uncle Nicolini's Works\").str[0]\n",
        "\n",
        "prep_df['text'] = prep_df['text'].str.replace(\" \\\\n \", \"\\\\n\", regex=True) # Remove spaces surrounding new lines.\n",
        "prep_df[\"text\"] = prep_df[\"text\"].str.replace(r'([a-zA-Z]+\\.?)[0-9]+', r'\\1', case=False, regex=True) # Clean buggy leftover footnotes (like \"food1\")\n",
        "\n",
        "len(prep_df)"
      ]
    },
    {
      "cell_type": "markdown",
      "source": [
        "### Explore"
      ],
      "metadata": {
        "id": "YPhr9CJ6wCFw"
      }
    },
    {
      "cell_type": "markdown",
      "source": [
        "We look at missing data, spread of article length and ratings."
      ],
      "metadata": {
        "id": "zRoioscxPE8t"
      }
    },
    {
      "cell_type": "code",
      "execution_count": null,
      "metadata": {
        "colab": {
          "base_uri": "https://localhost:8080/"
        },
        "id": "4J1PMo6gP9By",
        "outputId": "edd0c7a3-e1b0-49b9-e1dd-80ea69b6b520"
      },
      "outputs": [
        {
          "output_type": "execute_result",
          "data": {
            "text/plain": [
              "Unnamed: 0           0\n",
              "code                 0\n",
              "title                0\n",
              "text                 0\n",
              "image captions    3894\n",
              "rating             388\n",
              "link                 0\n",
              "image_url         4418\n",
              "dtype: int64"
            ]
          },
          "metadata": {},
          "execution_count": 43
        }
      ],
      "source": [
        "df.isnull().sum()"
      ]
    },
    {
      "cell_type": "code",
      "execution_count": null,
      "metadata": {
        "colab": {
          "base_uri": "https://localhost:8080/"
        },
        "id": "7-9ZxfT9LPVK",
        "outputId": "f20418c1-9534-4c7d-e512-3cc2310ba408"
      },
      "outputs": [
        {
          "output_type": "execute_result",
          "data": {
            "text/plain": [
              "<matplotlib.axes._subplots.AxesSubplot at 0x7f6fd5fe8be0>"
            ]
          },
          "metadata": {},
          "execution_count": 9
        },
        {
          "output_type": "display_data",
          "data": {
            "text/plain": [
              "<Figure size 432x288 with 1 Axes>"
            ],
            "image/png": "[encoded data removed]"
          },
          "metadata": {
            "needs_background": "light"
          }
        }
      ],
      "source": [
        "sns.histplot(df[\"text\"].str.len(), log_scale=True)"
      ]
    },
    {
      "cell_type": "code",
      "execution_count": null,
      "metadata": {
        "colab": {
          "base_uri": "https://localhost:8080/"
        },
        "id": "Jyihe_V9PSDC",
        "outputId": "165a73e9-63d3-4228-d675-764d48dee1f2"
      },
      "outputs": [
        {
          "output_type": "display_data",
          "data": {
            "text/plain": [
              "<Figure size 432x288 with 1 Axes>"
            ],
            "image/png": "[encoded data removed]"
          },
          "metadata": {
            "needs_background": "light"
          }
        }
      ],
      "source": [
        "plot = sns.histplot(df[\"rating\"].dropna())\n",
        "plot.set_xscale(\"log\")"
      ]
    },
    {
      "cell_type": "markdown",
      "metadata": {
        "id": "klm3FN6DST35"
      },
      "source": [
        "### Fine-tuning (GPT-3)"
      ]
    },
    {
      "cell_type": "code",
      "execution_count": null,
      "metadata": {
        "colab": {
          "base_uri": "https://localhost:8080/"
        },
        "id": "zWTwQqR1SSv5",
        "outputId": "79b0028c-c78a-49a8-8e7f-7975e89dff1c"
      },
      "outputs": [
        {
          "output_type": "stream",
          "name": "stderr",
          "text": [
            "Token indices sequence length is longer than the specified maximum sequence length for this model (1038 > 1024). Running this sequence through the model will result in indexing errors\n"
          ]
        }
      ],
      "source": [
        "#@title Prep corpus\n",
        "from transformers import GPT2TokenizerFast\n",
        "import json\n",
        "\n",
        "def train_test_split(df, frac=0.1):\n",
        "    test = df.sample(frac=frac, random_state=42, axis=0)\n",
        "    train = df.drop(index=test.index)\n",
        "    return train, test\n",
        "\n",
        "def prepare_dataset(df):\n",
        "  tokenizer = GPT2TokenizerFast.from_pretrained(\"gpt2\")\n",
        "  df[\"prompt\"] = \"Title:\" \n",
        "  df[\"completion\"] = \" \" + df[\"title\"] + \"\\n\"+ \" \" + df[\"text\"] + \"<|endoftext|>\"\n",
        "  df = df[(df['prompt']+df[\"completion\"]).map(lambda x: len(tokenizer.encode(x))<2048)] #Keep entries < 2048 tokens.\n",
        "  return df[[\"prompt\", \"completion\"]]\n",
        "\n",
        "def write_df_to_jslon(df, filename):\n",
        "  with open(filename+\".jsonl\", 'w') as fp:\n",
        "      fp.write('\\n'.join(json.dumps(i) for i in df.to_dict(\"records\")))\n",
        "\n",
        "train_df, validate_df = train_test_split(prepare_dataset(prep_df))\n",
        "write_df_to_jslon(train_df, \"scp_train\")\n",
        "write_df_to_jslon(validate_df, \"scp_validate\")"
      ]
    },
    {
      "cell_type": "code",
      "execution_count": null,
      "metadata": {
        "id": "qKTTQInicRMU"
      },
      "outputs": [],
      "source": [
        "# @title Train model \n",
        "import openai\n",
        "SUFFIX = \"scp-fine-tune\"\n",
        "\n",
        "!openai --api-key $OPENAI_API_KEY api fine_tunes.create \\\n",
        "-t /content/scp_train.jsonl \\\n",
        "-v /content/scp_validate.jsonl \\\n",
        "-m curie \\\n",
        "--n_epochs 2 \\\n",
        "--learning_rate_multiplier 0.2 \\\n",
        "--suffix $SUFFIX"
      ]
    },
    {
      "cell_type": "code",
      "execution_count": null,
      "metadata": {
        "id": "sRWXZ0trz1LI"
      },
      "outputs": [],
      "source": [
        "#@title Test \n",
        "generation = openai.Completion.create(\n",
        "    model = OPENAI_MODEL_ID\n",
        "    prompt=\"Title: Grandfather Clock\\n\")"
      ]
    },
    {
      "cell_type": "markdown",
      "metadata": {
        "id": "X-zWRZQax4gT"
      },
      "source": [
        "## Generating SCPs"
      ]
    },
    {
      "cell_type": "code",
      "execution_count": 19,
      "metadata": {
        "id": "3Gf4xJfo0iNr"
      },
      "outputs": [],
      "source": [
        "import pandas as pd\n",
        "import random\n",
        "import openai\n",
        "from transformers import GPT2TokenizerFast\n",
        "\n",
        "openai.api_key = (OPENAI_API_KEY)\n",
        "\n",
        "class SCP:\n",
        "  def __init__(self, title=None, number=None, object_class=None, \n",
        "               containment=None, description=None, addendums=[]):\n",
        "    self.title = title\n",
        "    self.number = number\n",
        "    self.object_class = object_class\n",
        "    self.containment=containment\n",
        "    self.description=description\n",
        "    self.addendums=addendums\n",
        "\n",
        "  def to_dict(self):\n",
        "    return {\n",
        "        'title': self.title,\n",
        "        'number': self.number,\n",
        "        'object_class': self.object_class,\n",
        "        'containment': self.containment,\n",
        "        'description': self.description,\n",
        "        'addendums': self.addendums,\n",
        "        }\n",
        "\n",
        "\n",
        "# Generates SCPs, handles the controllability of article sub-sections.\n",
        "class SCPGenerator:\n",
        "  def __init__(self, model):\n",
        "    self.model = model\n",
        "    self.current_generation = \"\"\n",
        "    self.end_reached = False\n",
        "    self.tokenizer = GPT2TokenizerFast.from_pretrained(\"gpt2\")\n",
        "\n",
        "  # Returns how many tokens left until model context window is capped.\n",
        "  def tokens_left(self, prompt):\n",
        "    max_tokens = 2048\n",
        "    return max(0, max_tokens-len(self.tokenizer.encode(prompt)))\n",
        "\n",
        "  def generate_title(self):\n",
        "    prompt = \"Title:\"\n",
        "    output = \"\"\n",
        "    while output == \"\":\n",
        "      generation = openai.Completion.create(model=self.model, prompt=prompt, \n",
        "                                            max_tokens=20, stop= [\"\\n\",\"Item\"])\n",
        "      output = generation[\"choices\"][0][\"text\"]\n",
        "    return output if output[0] != \" \" else output[1:]\n",
        "\n",
        "  def generate_number(self):\n",
        "    return random.randint(1, 9999)\n",
        "\n",
        "  def generate_object_class(self):\n",
        "    prompt = self.current_generation + \"\\nObject Class:\"\n",
        "    generation = openai.Completion.create(model=self.model, prompt=prompt, \n",
        "                                          max_tokens=4, top_p=0.99,\n",
        "                                          stop= [\"\\n\",\"Description\",\"Special Containment\"])\n",
        "    return generation[\"choices\"][0][\"text\"][1:]\n",
        "\n",
        "  def generate_containment(self):\n",
        "    prompt = self.current_generation + \"\\nSpecial Containment Procedures:\"\n",
        "    tokens_left = self.tokens_left(prompt)\n",
        "    if tokens_left==0: return None\n",
        "    generation = openai.Completion.create(model=self.model, prompt=prompt, \n",
        "                                          max_tokens=tokens_left, temperature=0.7,\n",
        "                                          frequency_penalty=0.2, presence_penalty=0.6,\n",
        "                                          stop=[\"\\nDescription\",\"\\nAddendum\",\"Special Containment\"])\n",
        "    output = generation[\"choices\"][0][\"text\"]\n",
        "    return output if output[0] != \" \" else output[1:]\n",
        "\n",
        "  def generate_description(self):\n",
        "    prompt = self.current_generation + \"\\nDescription:\"\n",
        "    \n",
        "    tokens_left = self.tokens_left(prompt)\n",
        "    if tokens_left==0: return None\n",
        "    generation = openai.Completion.create(model=self.model, prompt=prompt,\n",
        "                                          max_tokens=tokens_left, temperature=0.7, \n",
        "                                          frequency_penalty=0.2, presence_penalty=0.6,\n",
        "                                          stop=[\"\\nAdd\", \"\\nExp\",\"\\nDes\",\"<|endoftext|>\"], logprobs=5)\n",
        "    logprobs = generation[\"choices\"][0][\"logprobs\"][\"top_logprobs\"]\n",
        "    for logprob in logprobs[-2:]:\n",
        "      if (\"<|endoftext|>\") in list(logprob.keys()):\n",
        "        self.end_reached = True\n",
        "\n",
        "    output = generation[\"choices\"][0][\"text\"]\n",
        "    return output if output[0] != \" \" else output[1:]\n",
        "\n",
        "  def generate_addendum(self):\n",
        "    prompt = self.current_generation + \"\\nAdd\"\n",
        "    tokens_left = self.tokens_left(prompt)\n",
        "    if tokens_left==0: \n",
        "      self.end_reached = True\n",
        "      return None, False\n",
        "\n",
        "    generation = openai.Completion.create(model=self.model, prompt=prompt, \n",
        "                                          max_tokens=tokens_left, temperature=0.8, \n",
        "                                          frequency_penalty=0.25, presence_penalty=0.5,\n",
        "                                          stop=[\"\\nAdd\", \"<|endoftext|>\"], logprobs=5)\n",
        "    logprobs = generation[\"choices\"][0][\"logprobs\"][\"top_logprobs\"]\n",
        "    addendum_complete = False\n",
        "    for logprob in logprobs[-4:]:\n",
        "      if any(x in [\"Add\", \"endum\"] for x in list(logprob.keys())):\n",
        "        addendum_complete = True\n",
        "      if (\"<|endoftext|>\") in list(logprob.keys()):\n",
        "        self.end_reached, addendum_complete = True, True\n",
        "      \n",
        "    output = generation[\"choices\"][0][\"text\"]\n",
        "    return output, addendum_complete\n",
        "\n",
        "  def generate_addendums(self, max=3):\n",
        "    addendums = []\n",
        "    while not self.end_reached and len(addendums)<max:\n",
        "      addendum, addendum_complete = self.generate_addendum()\n",
        "      if addendum is not None and addendum_complete:\n",
        "        addendums.append(\"Add\"+addendum)\n",
        "        self.current_generation+=(\"Add\" + addendum + \"\\n\")\n",
        "      else:\n",
        "        break\n",
        "    return addendums\n",
        "\n",
        "  def generate_scp(self, scp=None):\n",
        "    if scp is None: scp=SCP()\n",
        "\n",
        "    self.current_generation = \"\"\n",
        "    self.end_reached = False\n",
        "\n",
        "    title = self.generate_title() if (scp.title is None) else scp.title\n",
        "    self.current_generation+=(\"Title: \" + title +\"\\n\")\n",
        "\n",
        "    number = self.generate_number() if (scp.number is None) else scp.number\n",
        "    self.current_generation+=(\"Item #: SCP-\" + str(number) +\"\\n\")\n",
        "    \n",
        "    object_class = self.generate_object_class() if (scp.object_class is None) else scp.object_class\n",
        "    self.current_generation+=(\"Object Class: \" + object_class +\"\\n\")\n",
        "\n",
        "    containment = self.generate_containment() if (scp.containment is None) else scp.containment\n",
        "    self.current_generation+=(\"Special Containment Procedures: \" + containment + \"\\n\")\n",
        "\n",
        "    description = self.generate_description() if (scp.description is None) else scp.description\n",
        "    self.current_generation+=(\"Description: \" + description + \"\\n\")\n",
        "\n",
        "    addendums = self.generate_addendums() if not scp.addendums else scp.addendums \n",
        "\n",
        "    print(self.current_generation)\n",
        "    return SCP(title,number,object_class,containment,description,addendums)\n",
        "\n",
        "\n",
        "# Generates, manages and saves the SCPs articles. \n",
        "class SCPDatabaseBuilder:\n",
        "  def __init__(self, model, csv_path):\n",
        "    self.generator = SCPGenerator(model)\n",
        "    self.csv_path = csv_path\n",
        "    try:\n",
        "      self.load_scps()\n",
        "    except:\n",
        "      self.scps = pd.DataFrame(columns=[\"title\", \"number\", \"object_class\", \n",
        "                                        \"containment\", \"description\", \"addendums\"])\n",
        "      self.scps = self.scps.set_index(\"number\")\n",
        "\n",
        "  def add_scp(self, scp):\n",
        "    scp_dict = scp.to_dict()\n",
        "    if scp.number in self.scps.index:\n",
        "      self.scps.loc[scp.number] = scp_dict\n",
        "\n",
        "    else:\n",
        "      scp_df = pd.DataFrame.from_dict(scp_dict,orient='index').T.set_index(\"number\")\n",
        "      self.scps = pd.concat([self.scps, scp_df])\n",
        "\n",
        "  def get_scp(self, number):\n",
        "    scp = self.scps.loc[number]\n",
        "    return SCP(scp.title, number, scp.object_class, \n",
        "               scp.containment, scp.description, scp.addendums)\n",
        "    \n",
        "  def get_all_scps(self):\n",
        "    return [SCP(**kwargs) for kwargs in self.scps.to_dict(orient='records')]\n",
        "\n",
        "  def save_scps_to_file(self):\n",
        "    self.scps.to_csv(self.csv_path, sep=';', encoding='utf-8', index=False)\n",
        "\n",
        "  def load_scps(self):\n",
        "    self.scps = pd.read_csv(self.csv_path, sep=';', encoding='utf-8')\n",
        "    self.scps.index+=1\n",
        "\n",
        "  def generate_scp(self, scp=None):\n",
        "    if scp is None: scp=SCP()\n",
        "    if scp.title is None:\n",
        "      scp.title = self.generator.generate_title()\n",
        "      while self.scps[\"title\"].eq(scp.title).any():\n",
        "        scp.title = self.generator.generate_title()\n",
        "    \n",
        "    if scp.number is None: scp.number = len(self.scps.index)+1\n",
        "    scp = self.generator.generate_scp(scp)\n",
        "    self.add_scp(scp)\n",
        "\n",
        "  def generate_scps(self, count=1, save_interval=0):\n",
        "    for i in range(count):\n",
        "      try:\n",
        "        self.generate_scp()\n",
        "        if save_interval!=0: \n",
        "          if i % save_interval: self.save_scps()\n",
        "      except:\n",
        "        i-=1\n",
        "        pass"
      ]
    },
    {
      "cell_type": "code",
      "execution_count": 20,
      "metadata": {
        "id": "w4kMRM-LgTV6"
      },
      "outputs": [],
      "source": [
        "# Create an SCP database\n",
        "csv_path = SCP_ARTICLE_TABLE_PATH\n",
        "model = OPENAI_MODEL_ID\n",
        "database_builder = SCPDatabaseBuilder(model, csv_path)"
      ]
    },
    {
      "cell_type": "code",
      "source": [
        "# Generate an SCP. Here, with a given title and number.\n",
        "scp = SCP(\"Grand Grandfather Clock\", 6)\n",
        "database_builder.generate_scp(scp)"
      ],
      "metadata": {
        "id": "4S_Kqu44L5Jc"
      },
      "execution_count": null,
      "outputs": []
    },
    {
      "cell_type": "code",
      "source": [
        "# Save all the database builder has stored to a file, when you are done generating SCP articles.\n",
        "database_builder.save_scps_to_file()"
      ],
      "metadata": {
        "id": "DqZ7aSRdTkoU"
      },
      "execution_count": null,
      "outputs": []
    },
    {
      "cell_type": "markdown",
      "metadata": {
        "id": "YkZ8ErcGiRDt"
      },
      "source": [
        "# SCP image generation"
      ]
    },
    {
      "cell_type": "code",
      "source": [
        "# @title Generate images\n",
        "import torch\n",
        "import re\n",
        "import accelerate\n",
        "from diffusers import StableDiffusionPipeline\n",
        "\n",
        "class SCPImageGenerator:\n",
        "  def __init__(self, model, output_folder):\n",
        "    self.model = model\n",
        "    self.output_folder = output_folder\n",
        "    self.generator = torch.Generator(\"cuda\").manual_seed(1024)\n",
        "    self.neg_prompt = \"illustration, naked, error, cropped, jpeg artifacts, signature, watermark, username\"\n",
        "\n",
        "  def extract_appearance(self, scp):\n",
        "    appearance = None\n",
        "    regex = r'((SCP-)\\d*(-\\d+)?) (is an?|ressembles|appears).{1,230}\\.'\n",
        "    appearance_match = re.search(regex, scp.description)\n",
        "    if appearance_match is not None:\n",
        "      appearance = re.sub(r'((SCP-)\\d*(-\\d+)?)', r'it', appearance_match[0])\n",
        "    print(appearance)\n",
        "    return appearance\n",
        "\n",
        "  def prepare_prompt(self, scp):\n",
        "    prompt = None\n",
        "    appearance= self.extract_appearance(scp)\n",
        "    if appearance is not None:\n",
        "      prompt = \"Title: \" + scp.title + \" Description: \" + appearance\n",
        "    return prompt \n",
        "\n",
        "  def generate_scp_image(self, scp, number=None):\n",
        "    prompt = self.prepare_prompt(scp)\n",
        "    if prompt is not None:\n",
        "      with torch.autocast(\"cuda\"):\n",
        "        image = model(prompt, height=512, width=576,negative_prompt = self.neg_prompt,\n",
        "                      guidance_scale=7,num_inference_steps=30, generator=self.generator).images[0]\n",
        "      if number is None:\n",
        "        number = scp.index\n",
        "      output_path = f\"%s/%s.png\" % (self.output_folder, str(number))\n",
        "      image.save(output_path)\n",
        "      return image\n",
        "\n",
        "  def generate_scp_images(self, scps):\n",
        "    for i in range(len(scps)):\n",
        "      self.generate_scp_image(scps[i], i+1)\n",
        "\n",
        "\n",
        "model = StableDiffusionPipeline.from_pretrained(\"runwayml/stable-diffusion-v1-5\").to(\"cuda\")\n",
        "output_folder = SCP_IMGS_PATH\n",
        "img_generator = SCPImageGenerator(model, output_folder)"
      ],
      "metadata": {
        "id": "0WAh49oknu4V"
      },
      "execution_count": null,
      "outputs": []
    },
    {
      "cell_type": "code",
      "source": [
        "# Generates images from an already generated SCP database.\n",
        "img_generator.generate_scp_images(database_builder.get_all_scps())"
      ],
      "metadata": {
        "id": "KKWuw0U_yQzm"
      },
      "execution_count": null,
      "outputs": []
    },
    {
      "cell_type": "code",
      "source": [
        "# When done, unload diffusion model (heavy RAM use)\n",
        "import gc\n",
        "torch.cuda.empty_cache()\n",
        "gc.collect()"
      ],
      "metadata": {
        "id": "VKTAUm9fhmJ_"
      },
      "execution_count": null,
      "outputs": []
    },
    {
      "cell_type": "markdown",
      "metadata": {
        "id": "wNIqb0BppKah"
      },
      "source": [
        "# SCP Page generation"
      ]
    },
    {
      "cell_type": "markdown",
      "source": [
        "## Defining Templates"
      ],
      "metadata": {
        "id": "3tTo1t_oGtbL"
      }
    },
    {
      "cell_type": "code",
      "source": [
        "from jinja2 import Template, Environment\n",
        "import jinja2\n",
        "import IPython\n",
        "import re\n",
        "\n",
        "def regex_replace(s, find, replace):\n",
        "    return re.sub(find, replace, s)\n",
        "\n",
        "env = Environment() # main environment, basically one per program.\n",
        "env.filters['regex_replace'] = regex_replace\n",
        "\n",
        "t = env.from_string(\"\"\"---\n",
        "scp: \"{{  number  }}\"\n",
        "---\n",
        "\n",
        "<head>\n",
        "    <title>{{  number  }} - SCP Foundation</title>\n",
        "    \n",
        "    <style type=\"text/css\" id=\"internal-style\">\n",
        "                \n",
        "        /* theme */\n",
        "                    @import url(https://d3g0gp89917ko0.cloudfront.net/v--291054f06006/common--theme/base/css/style.css);\n",
        "                    @import url(https://scp-wiki.wdfiles.com/local--code/component%3Atheme/1);\n",
        "            \n",
        "            </style>\n",
        "<style>\n",
        "iframe.scpnet-interwiki-frame { height: 0; }\n",
        "</style>\n",
        "\n",
        "</head>\n",
        "\n",
        "<div id=\"main-content\" style=\"margin: 50px 206px 20px 215px;\">\n",
        "<div id=\"action-area-top\"></div>\n",
        "<div id=\"page-title\">SCP-{{ number }}</div>\n",
        "<div id=\"page-content\">\n",
        "<div style=\"text-align: right;\"></div>\n",
        "<div class=\"scp-image-block block-right\" style=\"width:300px;\"><img src=\"https://raw.githubusercontent.com/lucmaki/this-scp-does-not-exist/main/imgs/{{ number }}.png\" style=\"width:300px;\" alt=\"{{ number }}.jpg\" class=\"image\">\n",
        "<div class=\"scp-image-caption\" style=\"width:300px;\">\n",
        "<p>Picture of SCP-{{ number }}.</p>\n",
        "</div>\n",
        "</div>\n",
        "<p><strong>Item #:</strong> SCP-{{ number }}</p>\n",
        "<p><strong>Object Class:</strong> {{ object_class }}</p>\n",
        "<p><strong>Special Containment Procedures:</strong> {{ containment  | replace(\"\\n\", \"</p><p>\") }}</p>\n",
        "<p><strong>Description:</strong> {{ description  | replace(\"\\n\", \"</p><p>\") }}</p>\n",
        "<p> {{ addendums  | replace(\"\\n\", \"</p><p>\") }}</p>\n",
        "\n",
        "<div class=\"footer-wikiwalk-nav\">\n",
        "<div style=\"text-align: center;\">\n",
        "</div>\n",
        "</div>\n",
        "</div>\n",
        "</div>\n",
        "</div>\"\"\")"
      ],
      "metadata": {
        "id": "VqaPkOnYaMWZ"
      },
      "execution_count": 21,
      "outputs": []
    },
    {
      "cell_type": "markdown",
      "source": [
        "## Generating Pages"
      ],
      "metadata": {
        "id": "81Q6-GMqthXS"
      }
    },
    {
      "cell_type": "code",
      "source": [
        "import re\n",
        "\n",
        "class SCPPageGenerator:\n",
        "  def __init__(self, output_path, img_folder_path):\n",
        "    self.output_path = output_path\n",
        "    self.img_folder_path = img_folder_path\n",
        "\n",
        "  def fill_html_template(self, scp, img_path):\n",
        "    dict = {\"img_src\": img_path, \"number\": scp.number, \"object_class\": scp.object_class,\n",
        "        \"containment\": scp.containment, \"description\": scp.description,\n",
        "        \"addendums\": re.sub(r'(^|\\n|\\\\n)(.{3,25}:)(\\D)', r'\\1<strong>\\2</strong>\\3',\n",
        "                            re.sub(r'(\\', \\'|\\\\n)', r'\\n', scp.addendums[2:-2]))\n",
        "        }\n",
        "    return t.render(dict)\n",
        "\n",
        "  def generate_scp_html(self, scp):\n",
        "    number = str(scp.number)\n",
        "    img_path = self.img_folder_path+\"/\"+number+\".png\"\n",
        "\n",
        "    html = self.fill_html_template(scp, img_path)\n",
        "    return html\n",
        "\n",
        "  def generate_scps_htmls(self, database_builder):\n",
        "    htmls=[]\n",
        "    for i in range(len(database_builder.get_all_scps())):\n",
        "      html = self.generate_scp_html(database_builder.get_scp(i+1))\n",
        "      htmls.append(html)\n",
        "    return htmls\n",
        "\n",
        "page_generator = SCPPageGenerator(SCP_PAGES_OUTPUT_PATH, SCP_IMGS_PATH)"
      ],
      "metadata": {
        "id": "1_VsnBcnwQQn"
      },
      "execution_count": 27,
      "outputs": []
    },
    {
      "cell_type": "code",
      "source": [
        "# Bulk generates SCP web pages out of already generated articles and images.\n",
        "\n",
        "pages = page_generator.generate_scps_htmls(database_builder)\n",
        "\n",
        "for i in range(len(pages)):\n",
        "  page_path = SCP_PAGES_OUTPUT_PATH + str(i+1) +\".html\"\n",
        "  with open(page_path, 'w') as f:\n",
        "    f.write(pages[i])"
      ],
      "metadata": {
        "id": "jUVPNv2xM3t0"
      },
      "execution_count": 29,
      "outputs": []
    }
  ],
  "metadata": {
    "colab": {
      "provenance": [],
      "collapsed_sections": [
        "zRoioscxPE8t"
      ],
      "toc_visible": true,
      "mount_file_id": "1Z_vunedvTted6PKDJhTfrnknqwTn_Q68",
      "authorship_tag": "ABX9TyNJauJrjaTlHqu+DcFyjfBa"
    },
    "gpuClass": "standard",
    "kernelspec": {
      "display_name": "Python 3",
      "name": "python3"
    },
    "language_info": {
      "name": "python"
    }
  },
  "nbformat": 4,
  "nbformat_minor": 0
}